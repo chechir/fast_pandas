{
 "cells": [
  {
   "cell_type": "code",
   "execution_count": 1,
   "metadata": {},
   "outputs": [],
   "source": [
    "import numpy as np\n",
    "import pandas as pd\n",
    "from sklearn.linear_model import LinearRegression\n",
    "from numpy.testing import assert_array_almost_equal\n",
    "import statsmodels.api as sm\n",
    "from line_profiler import LineProfiler"
   ]
  },
  {
   "cell_type": "markdown",
   "metadata": {},
   "source": [
    "## Generating some data"
   ]
  },
  {
   "cell_type": "code",
   "execution_count": 20,
   "metadata": {},
   "outputs": [],
   "source": [
    "def generate_random_data(n_rows, n_cols, seed=1):\n",
    "    \"\"\" Generate random gaussian data with a given seed \"\"\"\n",
    "    np.random.seed(seed)\n",
    "    random_data = np.random.normal(size=n_cols * n_rows, scale=4)\n",
    "    random_data = random_data.reshape(n_rows, n_cols)\n",
    "    random_df = pd.DataFrame(random_data)\n",
    "    return random_df"
   ]
  },
  {
   "cell_type": "code",
   "execution_count": 96,
   "metadata": {},
   "outputs": [
    {
     "data": {
      "text/html": [
       "<div>\n",
       "<style scoped>\n",
       "    .dataframe tbody tr th:only-of-type {\n",
       "        vertical-align: middle;\n",
       "    }\n",
       "\n",
       "    .dataframe tbody tr th {\n",
       "        vertical-align: top;\n",
       "    }\n",
       "\n",
       "    .dataframe thead th {\n",
       "        text-align: right;\n",
       "    }\n",
       "</style>\n",
       "<table border=\"1\" class=\"dataframe\">\n",
       "  <thead>\n",
       "    <tr style=\"text-align: right;\">\n",
       "      <th></th>\n",
       "      <th>0</th>\n",
       "      <th>1</th>\n",
       "      <th>2</th>\n",
       "      <th>3</th>\n",
       "      <th>4</th>\n",
       "      <th>5</th>\n",
       "      <th>6</th>\n",
       "      <th>7</th>\n",
       "      <th>8</th>\n",
       "      <th>9</th>\n",
       "      <th>...</th>\n",
       "      <th>40</th>\n",
       "      <th>41</th>\n",
       "      <th>42</th>\n",
       "      <th>43</th>\n",
       "      <th>44</th>\n",
       "      <th>45</th>\n",
       "      <th>46</th>\n",
       "      <th>47</th>\n",
       "      <th>48</th>\n",
       "      <th>49</th>\n",
       "    </tr>\n",
       "  </thead>\n",
       "  <tbody>\n",
       "    <tr>\n",
       "      <th>0</th>\n",
       "      <td>6.497381</td>\n",
       "      <td>-2.447026</td>\n",
       "      <td>-2.112687</td>\n",
       "      <td>-4.291874</td>\n",
       "      <td>3.461631</td>\n",
       "      <td>-9.206155</td>\n",
       "      <td>6.979247</td>\n",
       "      <td>-3.044828</td>\n",
       "      <td>1.276156</td>\n",
       "      <td>-0.997482</td>\n",
       "      <td>...</td>\n",
       "      <td>-0.767342</td>\n",
       "      <td>-3.550516</td>\n",
       "      <td>-2.988633</td>\n",
       "      <td>6.769818</td>\n",
       "      <td>0.203231</td>\n",
       "      <td>-2.547983</td>\n",
       "      <td>0.763662</td>\n",
       "      <td>8.401021</td>\n",
       "      <td>0.480636</td>\n",
       "      <td>2.468812</td>\n",
       "    </tr>\n",
       "    <tr>\n",
       "      <th>1</th>\n",
       "      <td>1.200681</td>\n",
       "      <td>-1.408999</td>\n",
       "      <td>-4.570073</td>\n",
       "      <td>-1.397371</td>\n",
       "      <td>-0.835577</td>\n",
       "      <td>2.346493</td>\n",
       "      <td>3.355934</td>\n",
       "      <td>3.724408</td>\n",
       "      <td>1.142349</td>\n",
       "      <td>3.540565</td>\n",
       "      <td>...</td>\n",
       "      <td>4.795672</td>\n",
       "      <td>0.740626</td>\n",
       "      <td>-1.501140</td>\n",
       "      <td>-2.554922</td>\n",
       "      <td>1.693977</td>\n",
       "      <td>0.309360</td>\n",
       "      <td>-1.375415</td>\n",
       "      <td>0.174387</td>\n",
       "      <td>-2.480003</td>\n",
       "      <td>2.792128</td>\n",
       "    </tr>\n",
       "    <tr>\n",
       "      <th>2</th>\n",
       "      <td>-1.788514</td>\n",
       "      <td>4.898031</td>\n",
       "      <td>1.613967</td>\n",
       "      <td>2.374314</td>\n",
       "      <td>-4.379647</td>\n",
       "      <td>0.677530</td>\n",
       "      <td>2.962226</td>\n",
       "      <td>-3.814802</td>\n",
       "      <td>-1.064874</td>\n",
       "      <td>0.130458</td>\n",
       "      <td>...</td>\n",
       "      <td>-0.746279</td>\n",
       "      <td>-0.406983</td>\n",
       "      <td>3.475545</td>\n",
       "      <td>3.001647</td>\n",
       "      <td>2.117861</td>\n",
       "      <td>0.550805</td>\n",
       "      <td>0.311285</td>\n",
       "      <td>2.473521</td>\n",
       "      <td>0.929978</td>\n",
       "      <td>2.730206</td>\n",
       "    </tr>\n",
       "    <tr>\n",
       "      <th>3</th>\n",
       "      <td>-1.240467</td>\n",
       "      <td>-9.739351</td>\n",
       "      <td>4.155298</td>\n",
       "      <td>8.747919</td>\n",
       "      <td>1.765458</td>\n",
       "      <td>-0.400621</td>\n",
       "      <td>-0.545779</td>\n",
       "      <td>-0.476217</td>\n",
       "      <td>0.069638</td>\n",
       "      <td>-4.488075</td>\n",
       "      <td>...</td>\n",
       "      <td>4.641354</td>\n",
       "      <td>1.477971</td>\n",
       "      <td>7.618635</td>\n",
       "      <td>4.444227</td>\n",
       "      <td>2.636199</td>\n",
       "      <td>-6.509753</td>\n",
       "      <td>2.409277</td>\n",
       "      <td>1.681129</td>\n",
       "      <td>3.243807</td>\n",
       "      <td>4.177768</td>\n",
       "    </tr>\n",
       "    <tr>\n",
       "      <th>4</th>\n",
       "      <td>-1.603513</td>\n",
       "      <td>3.296022</td>\n",
       "      <td>-2.249222</td>\n",
       "      <td>7.819512</td>\n",
       "      <td>-5.327807</td>\n",
       "      <td>-7.042754</td>\n",
       "      <td>-6.602885</td>\n",
       "      <td>-3.562222</td>\n",
       "      <td>-4.476462</td>\n",
       "      <td>7.824316</td>\n",
       "      <td>...</td>\n",
       "      <td>-1.992854</td>\n",
       "      <td>-1.243940</td>\n",
       "      <td>-0.007566</td>\n",
       "      <td>-5.586482</td>\n",
       "      <td>-3.445265</td>\n",
       "      <td>2.698846</td>\n",
       "      <td>2.474157</td>\n",
       "      <td>-1.772688</td>\n",
       "      <td>7.242140</td>\n",
       "      <td>-5.222908</td>\n",
       "    </tr>\n",
       "    <tr>\n",
       "      <th>5</th>\n",
       "      <td>-1.379949</td>\n",
       "      <td>-0.923359</td>\n",
       "      <td>-11.172340</td>\n",
       "      <td>7.750115</td>\n",
       "      <td>1.465328</td>\n",
       "      <td>-4.178358</td>\n",
       "      <td>8.204694</td>\n",
       "      <td>2.342648</td>\n",
       "      <td>1.718105</td>\n",
       "      <td>-2.427994</td>\n",
       "      <td>...</td>\n",
       "      <td>-0.746316</td>\n",
       "      <td>-0.227298</td>\n",
       "      <td>1.969346</td>\n",
       "      <td>-2.722713</td>\n",
       "      <td>-0.338032</td>\n",
       "      <td>-1.189448</td>\n",
       "      <td>1.669208</td>\n",
       "      <td>3.139083</td>\n",
       "      <td>-3.821701</td>\n",
       "      <td>2.343642</td>\n",
       "    </tr>\n",
       "    <tr>\n",
       "      <th>6</th>\n",
       "      <td>8.263133</td>\n",
       "      <td>-5.884628</td>\n",
       "      <td>-3.320688</td>\n",
       "      <td>-3.522310</td>\n",
       "      <td>-1.116391</td>\n",
       "      <td>6.491396</td>\n",
       "      <td>0.053411</td>\n",
       "      <td>-2.778774</td>\n",
       "      <td>2.487214</td>\n",
       "      <td>-2.399218</td>\n",
       "      <td>...</td>\n",
       "      <td>-1.646557</td>\n",
       "      <td>5.114112</td>\n",
       "      <td>-1.768917</td>\n",
       "      <td>1.294109</td>\n",
       "      <td>-0.439966</td>\n",
       "      <td>0.034196</td>\n",
       "      <td>-0.672795</td>\n",
       "      <td>-0.696721</td>\n",
       "      <td>1.844656</td>\n",
       "      <td>-4.703931</td>\n",
       "    </tr>\n",
       "    <tr>\n",
       "      <th>7</th>\n",
       "      <td>4.040509</td>\n",
       "      <td>3.680072</td>\n",
       "      <td>-0.780229</td>\n",
       "      <td>3.221574</td>\n",
       "      <td>-2.805378</td>\n",
       "      <td>-2.148892</td>\n",
       "      <td>0.625055</td>\n",
       "      <td>-0.760884</td>\n",
       "      <td>-1.794952</td>\n",
       "      <td>-2.689792</td>\n",
       "      <td>...</td>\n",
       "      <td>-5.706222</td>\n",
       "      <td>7.071840</td>\n",
       "      <td>-1.901492</td>\n",
       "      <td>1.910441</td>\n",
       "      <td>-4.087544</td>\n",
       "      <td>3.178113</td>\n",
       "      <td>-7.492644</td>\n",
       "      <td>3.682460</td>\n",
       "      <td>-0.141472</td>\n",
       "      <td>8.442420</td>\n",
       "    </tr>\n",
       "    <tr>\n",
       "      <th>8</th>\n",
       "      <td>-5.226136</td>\n",
       "      <td>0.305522</td>\n",
       "      <td>1.468927</td>\n",
       "      <td>4.931597</td>\n",
       "      <td>-1.691428</td>\n",
       "      <td>0.345858</td>\n",
       "      <td>-8.569867</td>\n",
       "      <td>-3.320675</td>\n",
       "      <td>1.806464</td>\n",
       "      <td>4.416697</td>\n",
       "      <td>...</td>\n",
       "      <td>1.805136</td>\n",
       "      <td>-6.736240</td>\n",
       "      <td>-4.640680</td>\n",
       "      <td>5.400427</td>\n",
       "      <td>-1.325133</td>\n",
       "      <td>1.546157</td>\n",
       "      <td>-3.405823</td>\n",
       "      <td>4.003526</td>\n",
       "      <td>-1.539329</td>\n",
       "      <td>5.832433</td>\n",
       "    </tr>\n",
       "    <tr>\n",
       "      <th>9</th>\n",
       "      <td>-2.128936</td>\n",
       "      <td>4.472534</td>\n",
       "      <td>2.697584</td>\n",
       "      <td>-2.889568</td>\n",
       "      <td>4.395985</td>\n",
       "      <td>-3.606538</td>\n",
       "      <td>-3.289869</td>\n",
       "      <td>2.886845</td>\n",
       "      <td>-2.501368</td>\n",
       "      <td>-2.375372</td>\n",
       "      <td>...</td>\n",
       "      <td>-0.421379</td>\n",
       "      <td>2.520783</td>\n",
       "      <td>-1.659388</td>\n",
       "      <td>1.807784</td>\n",
       "      <td>-6.316625</td>\n",
       "      <td>-3.314512</td>\n",
       "      <td>2.115519</td>\n",
       "      <td>-8.948346</td>\n",
       "      <td>-4.430850</td>\n",
       "      <td>-0.070873</td>\n",
       "    </tr>\n",
       "  </tbody>\n",
       "</table>\n",
       "<p>10 rows × 50 columns</p>\n",
       "</div>"
      ],
      "text/plain": [
       "         0         1          2         3         4         5         6   \\\n",
       "0  6.497381 -2.447026  -2.112687 -4.291874  3.461631 -9.206155  6.979247   \n",
       "1  1.200681 -1.408999  -4.570073 -1.397371 -0.835577  2.346493  3.355934   \n",
       "2 -1.788514  4.898031   1.613967  2.374314 -4.379647  0.677530  2.962226   \n",
       "3 -1.240467 -9.739351   4.155298  8.747919  1.765458 -0.400621 -0.545779   \n",
       "4 -1.603513  3.296022  -2.249222  7.819512 -5.327807 -7.042754 -6.602885   \n",
       "5 -1.379949 -0.923359 -11.172340  7.750115  1.465328 -4.178358  8.204694   \n",
       "6  8.263133 -5.884628  -3.320688 -3.522310 -1.116391  6.491396  0.053411   \n",
       "7  4.040509  3.680072  -0.780229  3.221574 -2.805378 -2.148892  0.625055   \n",
       "8 -5.226136  0.305522   1.468927  4.931597 -1.691428  0.345858 -8.569867   \n",
       "9 -2.128936  4.472534   2.697584 -2.889568  4.395985 -3.606538 -3.289869   \n",
       "\n",
       "         7         8         9   ...        40        41        42        43  \\\n",
       "0 -3.044828  1.276156 -0.997482  ... -0.767342 -3.550516 -2.988633  6.769818   \n",
       "1  3.724408  1.142349  3.540565  ...  4.795672  0.740626 -1.501140 -2.554922   \n",
       "2 -3.814802 -1.064874  0.130458  ... -0.746279 -0.406983  3.475545  3.001647   \n",
       "3 -0.476217  0.069638 -4.488075  ...  4.641354  1.477971  7.618635  4.444227   \n",
       "4 -3.562222 -4.476462  7.824316  ... -1.992854 -1.243940 -0.007566 -5.586482   \n",
       "5  2.342648  1.718105 -2.427994  ... -0.746316 -0.227298  1.969346 -2.722713   \n",
       "6 -2.778774  2.487214 -2.399218  ... -1.646557  5.114112 -1.768917  1.294109   \n",
       "7 -0.760884 -1.794952 -2.689792  ... -5.706222  7.071840 -1.901492  1.910441   \n",
       "8 -3.320675  1.806464  4.416697  ...  1.805136 -6.736240 -4.640680  5.400427   \n",
       "9  2.886845 -2.501368 -2.375372  ... -0.421379  2.520783 -1.659388  1.807784   \n",
       "\n",
       "         44        45        46        47        48        49  \n",
       "0  0.203231 -2.547983  0.763662  8.401021  0.480636  2.468812  \n",
       "1  1.693977  0.309360 -1.375415  0.174387 -2.480003  2.792128  \n",
       "2  2.117861  0.550805  0.311285  2.473521  0.929978  2.730206  \n",
       "3  2.636199 -6.509753  2.409277  1.681129  3.243807  4.177768  \n",
       "4 -3.445265  2.698846  2.474157 -1.772688  7.242140 -5.222908  \n",
       "5 -0.338032 -1.189448  1.669208  3.139083 -3.821701  2.343642  \n",
       "6 -0.439966  0.034196 -0.672795 -0.696721  1.844656 -4.703931  \n",
       "7 -4.087544  3.178113 -7.492644  3.682460 -0.141472  8.442420  \n",
       "8 -1.325133  1.546157 -3.405823  4.003526 -1.539329  5.832433  \n",
       "9 -6.316625 -3.314512  2.115519 -8.948346 -4.430850 -0.070873  \n",
       "\n",
       "[10 rows x 50 columns]"
      ]
     },
     "execution_count": 96,
     "metadata": {},
     "output_type": "execute_result"
    }
   ],
   "source": [
    "df = generate_random_data(n_rows=64, n_cols=50)\n",
    "df.head(10)"
   ]
  },
  {
   "cell_type": "markdown",
   "metadata": {},
   "source": [
    "### Ordinary Least Squares in 3 different ways"
   ]
  },
  {
   "cell_type": "code",
   "execution_count": 97,
   "metadata": {},
   "outputs": [],
   "source": [
    "def ols_lstsq(row):\n",
    "    \"\"\" Obtain Slope using Numpy lstsq function \"\"\"\n",
    "    lenght_x = row.shape[0]\n",
    "    X = np.arange(lenght_x)\n",
    "    ones = np.ones(lenght_x)\n",
    "    X = np.vstack((X, ones)).T\n",
    "    slope, intercept = np.linalg.lstsq(X, row.values, rcond=-1)[0]\n",
    "    return slope\n",
    "\n",
    "\n",
    "def ols_sklearn(row):\n",
    "    \"\"\" Obtain Slope using sklearn LinearRegression \"\"\"\n",
    "    model = LinearRegression()\n",
    "    lenght_X = row.shape[0]\n",
    "    X = np.arange(lenght_X).reshape(-1, 1)\n",
    "    model.fit(X, row.values)\n",
    "    slope = model.coef_[0]\n",
    "    return slope\n",
    "\n",
    "\n",
    "def ols_sm(row):\n",
    "    \"\"\" Obtain Slope using statsmodels.OLS \"\"\"\n",
    "    lenght_x = row.shape[0]\n",
    "    X = np.arange(lenght_x)\n",
    "    X = sm.add_constant(X)\n",
    "    Y = row.values\n",
    "    model = sm.OLS(Y, X)\n",
    "    model_results = model.fit()\n",
    "    intercept, slope = model_results.params.squeeze()\n",
    "    return slope"
   ]
  },
  {
   "cell_type": "code",
   "execution_count": 103,
   "metadata": {},
   "outputs": [
    {
     "name": "stdout",
     "output_type": "stream",
     "text": [
      "4.8 ms ± 173 µs per loop (mean ± std. dev. of 7 runs, 100 loops each)\n"
     ]
    }
   ],
   "source": [
    "%%timeit\n",
    "df.apply(ols_lstsq, axis=1)"
   ]
  },
  {
   "cell_type": "code",
   "execution_count": 104,
   "metadata": {},
   "outputs": [
    {
     "name": "stdout",
     "output_type": "stream",
     "text": [
      "18.9 ms ± 251 µs per loop (mean ± std. dev. of 7 runs, 100 loops each)\n"
     ]
    }
   ],
   "source": [
    "%%timeit\n",
    "df.apply(ols_sklearn, axis=1)"
   ]
  },
  {
   "cell_type": "code",
   "execution_count": 105,
   "metadata": {},
   "outputs": [
    {
     "name": "stdout",
     "output_type": "stream",
     "text": [
      "23 ms ± 283 µs per loop (mean ± std. dev. of 7 runs, 10 loops each)\n"
     ]
    }
   ],
   "source": [
    "%%timeit\n",
    "df.apply(ols_sm, axis=1)"
   ]
  },
  {
   "cell_type": "code",
   "execution_count": 108,
   "metadata": {},
   "outputs": [],
   "source": [
    "results_lstsq = df.apply(ols_lstsq, axis=1)\n",
    "results_sklearn = df.apply(ols_sklearn, axis=1)\n",
    "results_sm = df.apply(ols_sm, axis=1)\n",
    "assert_array_almost_equal(results_sklearn, results_lstsq)\n",
    "assert_array_almost_equal(results_sklearn, results_sm)"
   ]
  },
  {
   "cell_type": "code",
   "execution_count": 112,
   "metadata": {},
   "outputs": [
    {
     "name": "stdout",
     "output_type": "stream",
     "text": [
      "10.9 ms ± 162 µs per loop (mean ± std. dev. of 7 runs, 100 loops each)\n"
     ]
    }
   ],
   "source": [
    "%%timeit\n",
    "slopes = []\n",
    "for row_idx in range(df.shape[0]):\n",
    "    row = df.iloc[row_idx]\n",
    "    slope = ols_lstsq(row)\n",
    "    slopes.append(slope)\n",
    "slopes = pd.Series(slopes)"
   ]
  },
  {
   "cell_type": "code",
   "execution_count": 113,
   "metadata": {},
   "outputs": [],
   "source": [
    "# lp = LineProfiler()\n",
    "# model = LinearRegression()\n",
    "# lp.run(\"model.fit(X, row.values)\")"
   ]
  },
  {
   "cell_type": "markdown",
   "metadata": {},
   "source": [
    "### Using parameter \"raw\""
   ]
  },
  {
   "cell_type": "code",
   "execution_count": 116,
   "metadata": {},
   "outputs": [],
   "source": [
    "def ols_lstsq_raw(row):\n",
    "    \"\"\" Obtain Slope using sklearn LinearRegression, assuming Numpy array\"\"\"\n",
    "    lenght_x = row.shape[0]\n",
    "    X = np.arange(lenght_x)\n",
    "    ones = np.ones(lenght_x)\n",
    "    X = np.vstack((X, ones)).T\n",
    "    slope, intercept = np.linalg.lstsq(X, row, rcond=-1)[0]\n",
    "    return slope"
   ]
  },
  {
   "cell_type": "code",
   "execution_count": 123,
   "metadata": {},
   "outputs": [
    {
     "name": "stdout",
     "output_type": "stream",
     "text": [
      "3.61 ms ± 122 µs per loop (mean ± std. dev. of 7 runs, 100 loops each)\n"
     ]
    }
   ],
   "source": [
    "%%timeit\n",
    "df.apply(ols_lstsq_raw, axis=1, raw=True)"
   ]
  },
  {
   "cell_type": "code",
   "execution_count": 125,
   "metadata": {},
   "outputs": [],
   "source": [
    "results_lstsq_raw = df.apply(ols_lstsq_raw, axis=1, raw=True)\n",
    "assert_array_almost_equal(results_lstsq_raw, results_lstsq)"
   ]
  },
  {
   "cell_type": "markdown",
   "metadata": {},
   "source": [
    "### Numba\n",
    "\n",
    "\"Numba is an open source JIT compiler that translates a subset of Python and NumPy code into fast machine code.\" (https://numba.pydata.org/)\n",
    "\n",
    "JIT: Just In Time compilation"
   ]
  },
  {
   "cell_type": "code",
   "execution_count": 126,
   "metadata": {},
   "outputs": [],
   "source": [
    "import numba\n",
    "\n",
    "@numba.jit(nopython=True)\n",
    "def ols_lstsq_raw_numba(row):\n",
    "    \"\"\" \"\"\"\n",
    "    lenght_x = row.shape[0]\n",
    "    X = np.arange(lenght_x)\n",
    "    ones = np.ones(lenght_x)\n",
    "    X = np.vstack((X, ones)).T\n",
    "    slope, intercept = np.linalg.lstsq(X, row, rcond=-1)[0]\n",
    "    return slope\n",
    "\n",
    "# this is for precompiling\n",
    "_ = df.iloc[:1].apply(ols_lstsq_raw_numba, axis=1, raw=True)"
   ]
  },
  {
   "cell_type": "code",
   "execution_count": 127,
   "metadata": {},
   "outputs": [
    {
     "name": "stdout",
     "output_type": "stream",
     "text": [
      "691 µs ± 7.88 µs per loop (mean ± std. dev. of 7 runs, 1000 loops each)\n"
     ]
    }
   ],
   "source": [
    "%%timeit\n",
    "slopes_apply_raw_numba = df.apply(ols_lstsq_raw_numba, axis=1, raw=True)"
   ]
  },
  {
   "cell_type": "markdown",
   "metadata": {},
   "source": [
    "### Dask\n",
    "\n",
    "- Pandas and Numpy distributed computing\n",
    "- Bag (standard Python collections), Array(NumPy) and Distributed DataFrame (Pandas)\n",
    "- Super-easy parallelised Pandas functions\n",
    "\n",
    "Dask official documentation: https://docs.dask.org/en/latest/dataframe.html"
   ]
  },
  {
   "cell_type": "code",
   "execution_count": 128,
   "metadata": {},
   "outputs": [],
   "source": [
    "import dask.dataframe as dd"
   ]
  },
  {
   "cell_type": "code",
   "execution_count": 133,
   "metadata": {},
   "outputs": [
    {
     "name": "stdout",
     "output_type": "stream",
     "text": [
      "174 ms ± 5.09 ms per loop (mean ± std. dev. of 7 runs, 1 loop each)\n"
     ]
    }
   ],
   "source": [
    "%%timeit\n",
    "N_PARTITIONS = 40\n",
    "SCHEDULER = \"processes\"\n",
    "ddf = dd.from_pandas(df, npartitions=N_PARTITIONS, sort=False)\n",
    "slopes_apply_raw_numba_and_dask = ddf.apply(\n",
    "    ols_lstsq_raw_numba,\n",
    "    axis=1,\n",
    "    meta=(None, 'float64',),\n",
    "    raw=True,\n",
    ").compute(scheduler=SCHEDULER)"
   ]
  },
  {
   "cell_type": "markdown",
   "metadata": {},
   "source": [
    "### Using groupby"
   ]
  },
  {
   "cell_type": "code",
   "execution_count": 55,
   "metadata": {},
   "outputs": [],
   "source": [
    "long_df = generate_random_data(n_rows=64*50, n_cols=1)\n",
    "long_df['group'] = np.arange(len(df)) % 64"
   ]
  },
  {
   "cell_type": "code",
   "execution_count": 56,
   "metadata": {},
   "outputs": [
    {
     "name": "stdout",
     "output_type": "stream",
     "text": [
      "11.4 ms ± 105 µs per loop (mean ± std. dev. of 7 runs, 100 loops each)\n"
     ]
    }
   ],
   "source": [
    "%%timeit\n",
    "slopes_by_group = long_df.groupby('group')[0].apply(ols_lstsq)"
   ]
  },
  {
   "cell_type": "code",
   "execution_count": 58,
   "metadata": {},
   "outputs": [
    {
     "name": "stdout",
     "output_type": "stream",
     "text": [
      "5.97 ms ± 327 µs per loop (mean ± std. dev. of 7 runs, 100 loops each)\n"
     ]
    }
   ],
   "source": [
    "%%timeit\n",
    "slopes_by_group = long_df.groupby('group')[0].agg(ols_lstsq)"
   ]
  },
  {
   "cell_type": "code",
   "execution_count": 59,
   "metadata": {},
   "outputs": [
    {
     "name": "stdout",
     "output_type": "stream",
     "text": [
      "22 ms ± 419 µs per loop (mean ± std. dev. of 7 runs, 10 loops each)\n"
     ]
    }
   ],
   "source": [
    "%%timeit\n",
    "slopes_by_group = long_df.groupby('group')[0].transform(ols_lstsq)"
   ]
  },
  {
   "cell_type": "code",
   "execution_count": 66,
   "metadata": {},
   "outputs": [],
   "source": [
    "def get_group_ixs(group_ids):\n",
    "    result = dict()\n",
    "    for key in set(group_ids):\n",
    "        result[key] = []\n",
    "    for i, val in enumerate(group_ids):\n",
    "        result[val].append(i)\n",
    "    return result\n",
    "\n",
    "\n",
    "def group_apply(values, group_ids, func):\n",
    "    output = np.repeat(np.nan, len(values))\n",
    "    ixs = get_group_ixs(group_ids)\n",
    "    for ix in ixs.values():\n",
    "        output[ix] = func(values[list(ix)])\n",
    "    return output"
   ]
  },
  {
   "cell_type": "code",
   "execution_count": 67,
   "metadata": {},
   "outputs": [
    {
     "name": "stdout",
     "output_type": "stream",
     "text": [
      "86.7 µs ± 1.89 µs per loop (mean ± std. dev. of 7 runs, 10000 loops each)\n"
     ]
    }
   ],
   "source": [
    "%%timeit\n",
    "group_apply(long_df[0].values[0:1], long_df['group'].values[0:1], ols_lstsq_raw)"
   ]
  },
  {
   "cell_type": "code",
   "execution_count": 68,
   "metadata": {},
   "outputs": [
    {
     "name": "stdout",
     "output_type": "stream",
     "text": [
      "2.5 ms ± 55.6 µs per loop (mean ± std. dev. of 7 runs, 100 loops each)\n"
     ]
    }
   ],
   "source": [
    "%%timeit\n",
    "group_apply(long_df[0].values, long_df['group'].values, ols_lstsq_raw_numba)"
   ]
  },
  {
   "cell_type": "markdown",
   "metadata": {},
   "source": [
    "## Trying with more data\n",
    "\n",
    "Web Traffic Time Series Forecasting\n",
    "\n",
    "Forecast future traffic to Wikipedia pages\n",
    "\n",
    "Data: https://www.kaggle.com/c/web-traffic-time-series-forecasting/data"
   ]
  },
  {
   "cell_type": "code",
   "execution_count": 73,
   "metadata": {},
   "outputs": [
    {
     "data": {
      "text/plain": [
       "(145063, 550)"
      ]
     },
     "execution_count": 73,
     "metadata": {},
     "output_type": "execute_result"
    }
   ],
   "source": [
    "# real data\n",
    "df = pd.read_csv(\"wikipedia_train.csv\")\n",
    "df = df.drop(\"Page\", axis=1)\n",
    "df = df.fillna(df.median().median())\n",
    "df.shape"
   ]
  },
  {
   "cell_type": "code",
   "execution_count": 81,
   "metadata": {},
   "outputs": [
    {
     "name": "stdout",
     "output_type": "stream",
     "text": [
      "3.35 s ± 137 ms per loop (mean ± std. dev. of 7 runs, 1 loop each)\n"
     ]
    }
   ],
   "source": [
    "%%timeit\n",
    "results_lstsq = df.apply(ols_lstsq_raw_numba, axis=1, raw=True)"
   ]
  },
  {
   "cell_type": "code",
   "execution_count": 85,
   "metadata": {},
   "outputs": [
    {
     "name": "stdout",
     "output_type": "stream",
     "text": [
      "3.46 s ± 48.6 ms per loop (mean ± std. dev. of 7 runs, 1 loop each)\n"
     ]
    }
   ],
   "source": [
    "%%timeit\n",
    "N_PARTITIONS = 32\n",
    "SCHEDULER = \"processes\"\n",
    "ddf = dd.from_pandas(df, npartitions=N_PARTITIONS, sort=False)\n",
    "slopes_apply_raw_numba_and_dask = ddf.apply(\n",
    "    ols_lstsq_raw_numba,\n",
    "    axis=1,\n",
    "    meta=(None, 'float64',),\n",
    "    raw=True,\n",
    ").compute(scheduler=SCHEDULER)"
   ]
  },
  {
   "cell_type": "code",
   "execution_count": 87,
   "metadata": {},
   "outputs": [
    {
     "data": {
      "text/plain": [
       "(145063, 550)"
      ]
     },
     "execution_count": 87,
     "metadata": {},
     "output_type": "execute_result"
    }
   ],
   "source": [
    "df.shape"
   ]
  },
  {
   "cell_type": "code",
   "execution_count": 95,
   "metadata": {},
   "outputs": [
    {
     "data": {
      "text/plain": [
       "(79784650, 1)"
      ]
     },
     "execution_count": 95,
     "metadata": {},
     "output_type": "execute_result"
    }
   ],
   "source": [
    "df.values.reshape(145063*550, 1).shape"
   ]
  }
 ],
 "metadata": {
  "kernelspec": {
   "display_name": "Python 3",
   "language": "python",
   "name": "python3"
  },
  "language_info": {
   "codemirror_mode": {
    "name": "ipython",
    "version": 3
   },
   "file_extension": ".py",
   "mimetype": "text/x-python",
   "name": "python",
   "nbconvert_exporter": "python",
   "pygments_lexer": "ipython3",
   "version": "3.7.3"
  }
 },
 "nbformat": 4,
 "nbformat_minor": 4
}
